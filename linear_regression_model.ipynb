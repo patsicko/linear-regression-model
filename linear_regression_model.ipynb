{
  "nbformat": 4,
  "nbformat_minor": 0,
  "metadata": {
    "colab": {
      "provenance": [],
      "authorship_tag": "ABX9TyOJxldbrkYtH7KJyvpmIUTx",
      "include_colab_link": true
    },
    "kernelspec": {
      "name": "python3",
      "display_name": "Python 3"
    },
    "language_info": {
      "name": "python"
    }
  },
  "cells": [
    {
      "cell_type": "markdown",
      "metadata": {
        "id": "view-in-github",
        "colab_type": "text"
      },
      "source": [
        "<a href=\"https://colab.research.google.com/github/patsicko/linear-regression-model/blob/master/linear_regression_model.ipynb\" target=\"_parent\"><img src=\"https://colab.research.google.com/assets/colab-badge.svg\" alt=\"Open In Colab\"/></a>"
      ]
    },
    {
      "cell_type": "markdown",
      "source": [
        "# MACHINE LEARNING\n"
      ],
      "metadata": {
        "id": "zeWSFEYZw-Ed"
      }
    },
    {
      "cell_type": "code",
      "source": [
        "import numpy as np\n",
        "import  matplotlib.pyplot as plt\n",
        "from sklearn.datasets import make_regression\n",
        "\n",
        "\n"
      ],
      "metadata": {
        "id": "SFX3LHCCxJgr"
      },
      "execution_count": 5,
      "outputs": []
    },
    {
      "cell_type": "markdown",
      "source": [
        "# **1. Dataset**"
      ],
      "metadata": {
        "id": "H_Bay1IS9ves"
      }
    },
    {
      "cell_type": "code",
      "source": [
        "x,y=make_regression(n_samples=100, n_features=1,noise=10)\n",
        "\n",
        "print(x.shape)\n",
        "print(y.shape)"
      ],
      "metadata": {
        "id": "mb_AI_CN91g5",
        "outputId": "94992f67-64e0-447b-a709-e04d4aa731cf",
        "colab": {
          "base_uri": "https://localhost:8080/"
        }
      },
      "execution_count": 6,
      "outputs": [
        {
          "output_type": "stream",
          "name": "stdout",
          "text": [
            "(100, 1)\n",
            "(100,)\n"
          ]
        }
      ]
    },
    {
      "cell_type": "code",
      "source": [
        "y=y.reshape(y.shape[0],1)\n",
        "y.shape"
      ],
      "metadata": {
        "id": "cieUaCkQ96XD",
        "outputId": "79ddce0f-b360-4318-e851-078435e0a7f9",
        "colab": {
          "base_uri": "https://localhost:8080/"
        }
      },
      "execution_count": 9,
      "outputs": [
        {
          "output_type": "execute_result",
          "data": {
            "text/plain": [
              "(100, 1)"
            ]
          },
          "metadata": {},
          "execution_count": 9
        }
      ]
    },
    {
      "cell_type": "code",
      "source": [],
      "metadata": {
        "id": "ixDvjFF4A6aE"
      },
      "execution_count": null,
      "outputs": []
    },
    {
      "cell_type": "markdown",
      "source": [
        "## **X=m x (n+1)**   \n",
        "\n",
        "**m=samples\n",
        "n=features**\n",
        "\n",
        "# **Y=m x 1**\n",
        "\n",
        "# **theta=(n+1) x 1**"
      ],
      "metadata": {
        "id": "bd73JSmcA7Py"
      }
    },
    {
      "cell_type": "code",
      "source": [
        "X=np.hstack((x,np.ones(x.shape)))\n",
        "X.shape"
      ],
      "metadata": {
        "id": "id94cuLq-MwH",
        "outputId": "94614f8d-73c2-425f-9b25-52543c08ea13",
        "colab": {
          "base_uri": "https://localhost:8080/"
        }
      },
      "execution_count": 11,
      "outputs": [
        {
          "output_type": "execute_result",
          "data": {
            "text/plain": [
              "(100, 2)"
            ]
          },
          "metadata": {},
          "execution_count": 11
        }
      ]
    },
    {
      "cell_type": "code",
      "source": [
        "plt.scatter(x,y)\n",
        "plt.show()"
      ],
      "metadata": {
        "id": "9r0SMXeh-5jT",
        "outputId": "d2567e50-f23f-465c-c56c-86a20eed9f3a",
        "colab": {
          "base_uri": "https://localhost:8080/",
          "height": 432
        }
      },
      "execution_count": 13,
      "outputs": [
        {
          "output_type": "display_data",
          "data": {
            "text/plain": [
              "<Figure size 640x480 with 1 Axes>"
            ],
            "image/png": "[encoded data removed]"
          },
          "metadata": {}
        }
      ]
    },
    {
      "cell_type": "code",
      "source": [
        "theta=np.random.rand(2,1)\n",
        "theta"
      ],
      "metadata": {
        "id": "QX2t4QWR_nEU",
        "outputId": "0578de25-f283-4431-ce8b-8ca4cc097c77",
        "colab": {
          "base_uri": "https://localhost:8080/"
        }
      },
      "execution_count": 15,
      "outputs": [
        {
          "output_type": "execute_result",
          "data": {
            "text/plain": [
              "array([[0.69258872],\n",
              "       [0.06604454]])"
            ]
          },
          "metadata": {},
          "execution_count": 15
        }
      ]
    },
    {
      "cell_type": "markdown",
      "source": [],
      "metadata": {
        "id": "0M7uLf2xDPV6"
      }
    },
    {
      "cell_type": "markdown",
      "source": [
        "# **Model**\n",
        "\n",
        "# y=X.theta"
      ],
      "metadata": {
        "id": "yF_F7kAkDaWs"
      }
    },
    {
      "cell_type": "code",
      "source": [
        "def model(X,theta):\n",
        "  return X.dot(theta)\n",
        "\n",
        "plt.scatter(x,y)\n",
        "plt.plot(x,model(X,theta),c='r')\n"
      ],
      "metadata": {
        "id": "bWHoA6dDEAW5",
        "outputId": "792050d7-82c2-47a7-d8a3-dd96c82750d3",
        "colab": {
          "base_uri": "https://localhost:8080/",
          "height": 449
        }
      },
      "execution_count": 56,
      "outputs": [
        {
          "output_type": "execute_result",
          "data": {
            "text/plain": [
              "[<matplotlib.lines.Line2D at 0x7ade84751c90>]"
            ]
          },
          "metadata": {},
          "execution_count": 56
        },
        {
          "output_type": "display_data",
          "data": {
            "text/plain": [
              "<Figure size 640x480 with 1 Axes>"
            ],
            "image/png": "[encoded data removed]"
          },
          "metadata": {}
        }
      ]
    },
    {
      "cell_type": "code",
      "source": [
        "\n",
        "\n"
      ],
      "metadata": {
        "id": "G8JO0YV6Gm_6"
      },
      "execution_count": null,
      "outputs": []
    },
    {
      "cell_type": "markdown",
      "source": [
        "# **Loss function**\n",
        "\n",
        "# **J(theta)=(1/2m).sum(X.theta-Y)**2"
      ],
      "metadata": {
        "id": "GGtEeVdLGshU"
      }
    },
    {
      "cell_type": "code",
      "source": [
        "def costfunction(X,y,theta):\n",
        "  m=len(y)\n",
        "  return 1/(2*m)*np.sum((model(X,theta)-y)**2)\n",
        "\n",
        "costfunction(X,y,theta)"
      ],
      "metadata": {
        "id": "wRK7kAqrG6cD",
        "outputId": "2c81d7b0-8a22-4595-a244-fe5b058e98ce",
        "colab": {
          "base_uri": "https://localhost:8080/"
        }
      },
      "execution_count": 60,
      "outputs": [
        {
          "output_type": "execute_result",
          "data": {
            "text/plain": [
              "1608.26287756699"
            ]
          },
          "metadata": {},
          "execution_count": 60
        }
      ]
    },
    {
      "cell_type": "code",
      "source": [],
      "metadata": {
        "id": "_nQrG9u9M5HS"
      },
      "execution_count": null,
      "outputs": []
    },
    {
      "cell_type": "markdown",
      "source": [
        "# **GRADIENT**\n",
        "\n",
        "# **dJ(theta)/dtheta=(1/m)X.T(X.theta-y)**"
      ],
      "metadata": {
        "id": "6zg3foU5M5-w"
      }
    },
    {
      "cell_type": "code",
      "source": [
        "def grad(X,theta,y):\n",
        "  m=len(y)\n",
        "  return (1/m)*X.T.dot(model(X,theta)-y)\n",
        "grad(X,theta,y)"
      ],
      "metadata": {
        "id": "cn4GjDjNM-G-",
        "outputId": "5177fb73-4121-4057-93ea-a274e8cb1bcf",
        "colab": {
          "base_uri": "https://localhost:8080/"
        }
      },
      "execution_count": 61,
      "outputs": [
        {
          "output_type": "execute_result",
          "data": {
            "text/plain": [
              "array([[-60.6566649 ],\n",
              "       [ -0.73525036]])"
            ]
          },
          "metadata": {},
          "execution_count": 61
        }
      ]
    },
    {
      "cell_type": "code",
      "source": [],
      "metadata": {
        "id": "Gtm9dwAgWWAZ"
      },
      "execution_count": null,
      "outputs": []
    },
    {
      "cell_type": "markdown",
      "source": [
        "# **GRADIENT DESCENT**\n",
        "\n",
        "# **theta=theta-alpha*grad(X,theta,y)**"
      ],
      "metadata": {
        "id": "f6Pk0ua2Waqh"
      }
    },
    {
      "cell_type": "code",
      "source": [
        "def descgrad(X,theta,y,learningrate,iteration):\n",
        "  cost_history=np.zeros(iteration)\n",
        "\n",
        "\n",
        "  for i in range(0,iteration):\n",
        "    theta=theta-learningrate*grad(X,theta,y)\n",
        "    cost_history[i]=costfunction(X,y,theta)\n",
        "  return theta,cost_history\n",
        "\n",
        "thetaFinal,cost_history=descgrad(X,theta,y,learningrate=0.01,iteration=1000)\n",
        "thetaFinal\n"
      ],
      "metadata": {
        "id": "ApAmSS6YXTuu",
        "outputId": "2781437f-6ef6-4192-e2d9-18e3032d7d6d",
        "colab": {
          "base_uri": "https://localhost:8080/"
        }
      },
      "execution_count": 90,
      "outputs": [
        {
          "output_type": "execute_result",
          "data": {
            "text/plain": [
              "array([[52.19479066],\n",
              "       [-1.74428505]])"
            ]
          },
          "metadata": {},
          "execution_count": 90
        }
      ]
    },
    {
      "cell_type": "code",
      "source": [
        "plt.scatter(x,y)\n",
        "\n",
        "plt.plot(x,model(X,thetaFinal),c='r')\n",
        "plt.show()"
      ],
      "metadata": {
        "id": "vV0feuJ8dV-F",
        "outputId": "dfbf2353-2e93-4536-de0c-beabfd2c4ec1",
        "colab": {
          "base_uri": "https://localhost:8080/",
          "height": 432
        }
      },
      "execution_count": 91,
      "outputs": [
        {
          "output_type": "display_data",
          "data": {
            "text/plain": [
              "<Figure size 640x480 with 1 Axes>"
            ],
            "image/png": "[encoded data removed]"
          },
          "metadata": {}
        }
      ]
    },
    {
      "cell_type": "code",
      "source": [
        "costfunction(X,y,thetaFinal)"
      ],
      "metadata": {
        "id": "LkQ26ygld39o",
        "outputId": "65d2f86a-1b0d-4f43-e73f-69661547c858",
        "colab": {
          "base_uri": "https://localhost:8080/"
        }
      },
      "execution_count": 88,
      "outputs": [
        {
          "output_type": "execute_result",
          "data": {
            "text/plain": [
              "46.938338219866466"
            ]
          },
          "metadata": {},
          "execution_count": 88
        }
      ]
    },
    {
      "cell_type": "code",
      "source": [
        "plt.plot(range(1000),cost_history)"
      ],
      "metadata": {
        "id": "KnyKB3ish_AH",
        "outputId": "1372cc73-6e67-4f50-d100-7f8e2a3b49d4",
        "colab": {
          "base_uri": "https://localhost:8080/",
          "height": 447
        }
      },
      "execution_count": 92,
      "outputs": [
        {
          "output_type": "execute_result",
          "data": {
            "text/plain": [
              "[<matplotlib.lines.Line2D at 0x7ade84822890>]"
            ]
          },
          "metadata": {},
          "execution_count": 92
        },
        {
          "output_type": "display_data",
          "data": {
            "text/plain": [
              "<Figure size 640x480 with 1 Axes>"
            ],
            "image/png": "[encoded data removed]"
          },
          "metadata": {}
        }
      ]
    },
    {
      "cell_type": "code",
      "source": [],
      "metadata": {
        "id": "Qb4tmAS-m7t-"
      },
      "execution_count": null,
      "outputs": []
    },
    {
      "cell_type": "markdown",
      "source": [
        "# **Coefficient de determination R2**\n",
        "\n",
        "# R2=1-(sum(y-f(x))**2)/sum(y-y.mean())**2\n",
        "\n",
        "\n",
        "\n",
        "---\n",
        "\n"
      ],
      "metadata": {
        "id": "06b0hzm-m9FL"
      }
    },
    {
      "cell_type": "code",
      "source": [
        "def coef_determination(y,pred):\n",
        "  u=((y-pred)**2).sum()\n",
        "  v=((y-y.mean())**2).sum()\n",
        "  return 1-u/v"
      ],
      "metadata": {
        "id": "gZvGqlTHnIEy"
      },
      "execution_count": 93,
      "outputs": []
    },
    {
      "cell_type": "code",
      "source": [
        "pred=model(X,thetaFinal)"
      ],
      "metadata": {
        "id": "k0n7TCXPovWz"
      },
      "execution_count": 95,
      "outputs": []
    },
    {
      "cell_type": "code",
      "source": [
        "coef_determination(y,pred)"
      ],
      "metadata": {
        "id": "Q1O-fHLNolDf",
        "outputId": "e086b3f1-bcfa-46be-c43b-44738bb42ff6",
        "colab": {
          "base_uri": "https://localhost:8080/"
        }
      },
      "execution_count": 96,
      "outputs": [
        {
          "output_type": "execute_result",
          "data": {
            "text/plain": [
              "0.9715570010427005"
            ]
          },
          "metadata": {},
          "execution_count": 96
        }
      ]
    }
  ]
}