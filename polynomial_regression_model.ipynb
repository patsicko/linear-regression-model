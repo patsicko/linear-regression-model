{
  "nbformat": 4,
  "nbformat_minor": 0,
  "metadata": {
    "colab": {
      "provenance": [],
      "authorship_tag": "ABX9TyNnwj+wvu3I5et2F0Apy/62",
      "include_colab_link": true
    },
    "kernelspec": {
      "name": "python3",
      "display_name": "Python 3"
    },
    "language_info": {
      "name": "python"
    }
  },
  "cells": [
    {
      "cell_type": "markdown",
      "metadata": {
        "id": "view-in-github",
        "colab_type": "text"
      },
      "source": [
        "<a href=\"https://colab.research.google.com/github/patsicko/linear-regression-model/blob/polynomial_regression_model/polynomial_regression_model.ipynb\" target=\"_parent\"><img src=\"https://colab.research.google.com/assets/colab-badge.svg\" alt=\"Open In Colab\"/></a>"
      ]
    },
    {
      "cell_type": "code",
      "execution_count": 465,
      "metadata": {
        "colab": {
          "base_uri": "https://localhost:8080/",
          "height": 430
        },
        "id": "7uGP74s8vUOl",
        "outputId": "bac915a5-61f5-4b80-b1bc-06026597aeb4"
      },
      "outputs": [
        {
          "output_type": "display_data",
          "data": {
            "text/plain": [
              "<Figure size 640x480 with 1 Axes>"
            ],
            "image/png": "[encoded data removed]"
          },
          "metadata": {}
        }
      ],
      "source": [
        "import numpy as np\n",
        "import matplotlib.pyplot as plt\n",
        "from sklearn.datasets import make_regression\n",
        "\n",
        "x,y=make_regression(n_samples=100,n_features=1,noise=10)\n",
        "y=y+abs(y/2)\n",
        "plt.scatter(x,y)\n",
        "\n",
        "plt.show()"
      ]
    },
    {
      "cell_type": "code",
      "source": [
        "x.shape"
      ],
      "metadata": {
        "colab": {
          "base_uri": "https://localhost:8080/"
        },
        "id": "NF6HYQrMvk6a",
        "outputId": "63073718-47b8-441f-a768-7b9357929623"
      },
      "execution_count": 466,
      "outputs": [
        {
          "output_type": "execute_result",
          "data": {
            "text/plain": [
              "(100, 1)"
            ]
          },
          "metadata": {},
          "execution_count": 466
        }
      ]
    },
    {
      "cell_type": "code",
      "source": [
        "y=y.reshape(y.shape[0],1)\n",
        "\n",
        "y.shape"
      ],
      "metadata": {
        "colab": {
          "base_uri": "https://localhost:8080/"
        },
        "id": "R9jU4mopwbFK",
        "outputId": "e6da01db-547f-46ed-aa8a-22c1752f5133"
      },
      "execution_count": 467,
      "outputs": [
        {
          "output_type": "execute_result",
          "data": {
            "text/plain": [
              "(100, 1)"
            ]
          },
          "metadata": {},
          "execution_count": 467
        }
      ]
    },
    {
      "cell_type": "code",
      "source": [],
      "metadata": {
        "id": "gLYbXDsAxzkr"
      },
      "execution_count": 467,
      "outputs": []
    },
    {
      "cell_type": "code",
      "source": [],
      "metadata": {
        "id": "H5IMfD-Kxtzl"
      },
      "execution_count": 467,
      "outputs": []
    },
    {
      "cell_type": "code",
      "source": [
        "x.shape"
      ],
      "metadata": {
        "colab": {
          "base_uri": "https://localhost:8080/"
        },
        "id": "gUVhaRphx3-_",
        "outputId": "1b472bd9-de50-4c81-ef9b-aee9fe3c582b"
      },
      "execution_count": 468,
      "outputs": [
        {
          "output_type": "execute_result",
          "data": {
            "text/plain": [
              "(100, 1)"
            ]
          },
          "metadata": {},
          "execution_count": 468
        }
      ]
    },
    {
      "cell_type": "code",
      "source": [
        "X=np.hstack((x,np.ones(x.shape)))\n",
        "\n",
        "X=np.hstack((x**2,X))\n",
        "\n",
        "X.shape"
      ],
      "metadata": {
        "colab": {
          "base_uri": "https://localhost:8080/"
        },
        "id": "6R4DsUB8yxes",
        "outputId": "cace9101-5ed0-483a-dd1d-176d642354e5"
      },
      "execution_count": 469,
      "outputs": [
        {
          "output_type": "execute_result",
          "data": {
            "text/plain": [
              "(100, 3)"
            ]
          },
          "metadata": {},
          "execution_count": 469
        }
      ]
    },
    {
      "cell_type": "code",
      "source": [
        "theta=np.random.rand(3,1)\n",
        "theta"
      ],
      "metadata": {
        "colab": {
          "base_uri": "https://localhost:8080/"
        },
        "id": "UHudSBU1zPIn",
        "outputId": "504e2ea7-513a-45eb-a419-139fd815baae"
      },
      "execution_count": 470,
      "outputs": [
        {
          "output_type": "execute_result",
          "data": {
            "text/plain": [
              "array([[0.66592745],\n",
              "       [0.01977706],\n",
              "       [0.73559741]])"
            ]
          },
          "metadata": {},
          "execution_count": 470
        }
      ]
    },
    {
      "cell_type": "code",
      "source": [
        "def model(X,theta):\n",
        "  return X.dot(theta)\n",
        "\n",
        "pred=model(X,theta)\n",
        "\n",
        "plt.scatter(x[:,0],y)\n",
        "plt.scatter(x[:,0],pred,c='r')\n",
        "plt.show()"
      ],
      "metadata": {
        "colab": {
          "base_uri": "https://localhost:8080/",
          "height": 430
        },
        "id": "I5-8_H0m0oHm",
        "outputId": "c0fa164c-d8fb-45a4-c327-40acdaec65db"
      },
      "execution_count": 471,
      "outputs": [
        {
          "output_type": "display_data",
          "data": {
            "text/plain": [
              "<Figure size 640x480 with 1 Axes>"
            ],
            "image/png": "[encoded data removed]"
          },
          "metadata": {}
        }
      ]
    },
    {
      "cell_type": "code",
      "source": [
        "def costFunction(X,y,theta):\n",
        "  m=len(y)\n",
        "  return (1/m*2)*np.sum((model(X,theta)-y)**2)\n",
        "\n",
        "costFunction(X,y,theta)"
      ],
      "metadata": {
        "colab": {
          "base_uri": "https://localhost:8080/"
        },
        "id": "KsjHGh0E6NFi",
        "outputId": "fa521358-aa82-4e69-9660-de8a652cc59a"
      },
      "execution_count": 472,
      "outputs": [
        {
          "output_type": "execute_result",
          "data": {
            "text/plain": [
              "4818.050017780987"
            ]
          },
          "metadata": {},
          "execution_count": 472
        }
      ]
    },
    {
      "cell_type": "code",
      "source": [
        "def grad(X,y,theta):\n",
        "  m=len(y)\n",
        "  return (1/m)*X.T.dot(model(X,theta)-y)\n",
        "grad(X,y,theta)"
      ],
      "metadata": {
        "colab": {
          "base_uri": "https://localhost:8080/"
        },
        "id": "odi1O34W-63D",
        "outputId": "6aee48f5-b0d0-427f-cfec-2df539816783"
      },
      "execution_count": 473,
      "outputs": [
        {
          "output_type": "execute_result",
          "data": {
            "text/plain": [
              "array([[-40.27221634],\n",
              "       [-44.83201409],\n",
              "       [-21.38754154]])"
            ]
          },
          "metadata": {},
          "execution_count": 473
        }
      ]
    },
    {
      "cell_type": "code",
      "source": [
        "def gradient_descent(X,y,theta,n_learningrate,n_iteration):\n",
        "\n",
        "  cost_history=np.zeros(n_iteration)\n",
        "  for i in range(0,n_iteration):\n",
        "    theta=theta-n_learningrate*grad(X,y,theta)\n",
        "    cost_history[i]=costFunction(X,y,theta)\n",
        "  return theta,cost_history\n",
        "\n",
        "\n",
        "final_theta,cost_history  =gradient_descent(X,y,theta,n_learningrate=0.01,n_iteration=10000)\n",
        "\n",
        "final_theta\n",
        "\n"
      ],
      "metadata": {
        "colab": {
          "base_uri": "https://localhost:8080/"
        },
        "id": "CNSllalsAWp6",
        "outputId": "fa2e2b1a-87d6-4490-8ec0-53df5261448a"
      },
      "execution_count": 474,
      "outputs": [
        {
          "output_type": "execute_result",
          "data": {
            "text/plain": [
              "array([[ 6.38314182],\n",
              "       [41.80149483],\n",
              "       [10.16481691]])"
            ]
          },
          "metadata": {},
          "execution_count": 474
        }
      ]
    },
    {
      "cell_type": "code",
      "source": [
        "prediction=model(X,final_theta)"
      ],
      "metadata": {
        "id": "BOBet7F0rHX4"
      },
      "execution_count": 475,
      "outputs": []
    },
    {
      "cell_type": "code",
      "source": [
        "plt.scatter(x[:,0],y)\n",
        "plt.scatter(x[:,0],prediction,c='r')\n",
        "plt.show()"
      ],
      "metadata": {
        "colab": {
          "base_uri": "https://localhost:8080/",
          "height": 430
        },
        "id": "G4_alyWFC2sf",
        "outputId": "5171bba8-89ab-4f1c-c32a-afcdfef36d50"
      },
      "execution_count": 476,
      "outputs": [
        {
          "output_type": "display_data",
          "data": {
            "text/plain": [
              "<Figure size 640x480 with 1 Axes>"
            ],
            "image/png": "[encoded data removed]"
          },
          "metadata": {}
        }
      ]
    },
    {
      "cell_type": "code",
      "source": [
        "plt.plot(range(10000),cost_history)"
      ],
      "metadata": {
        "colab": {
          "base_uri": "https://localhost:8080/",
          "height": 447
        },
        "id": "B4POLhC0C77X",
        "outputId": "1f842903-921e-46e0-c9ea-e4ee8b78082d"
      },
      "execution_count": 477,
      "outputs": [
        {
          "output_type": "execute_result",
          "data": {
            "text/plain": [
              "[<matplotlib.lines.Line2D at 0x7fba11039600>]"
            ]
          },
          "metadata": {},
          "execution_count": 477
        },
        {
          "output_type": "display_data",
          "data": {
            "text/plain": [
              "<Figure size 640x480 with 1 Axes>"
            ],
            "image/png": "[encoded data removed]"
          },
          "metadata": {}
        }
      ]
    },
    {
      "cell_type": "code",
      "source": [
        "def coef_deter(X,y,theta):\n",
        "  u= (y-model(X,theta)**2).sum()\n",
        "  v=((y-y.mean())**2).sum()\n",
        "  return 1-(u/v)\n",
        "coef_deter(X,y,theta)"
      ],
      "metadata": {
        "colab": {
          "base_uri": "https://localhost:8080/"
        },
        "id": "Zh7rgmeDFO6t",
        "outputId": "3eecb650-f58c-4c0c-c81e-5f9a5ca5fa70"
      },
      "execution_count": 478,
      "outputs": [
        {
          "output_type": "execute_result",
          "data": {
            "text/plain": [
              "0.9901902102402811"
            ]
          },
          "metadata": {},
          "execution_count": 478
        }
      ]
    }
  ]
}